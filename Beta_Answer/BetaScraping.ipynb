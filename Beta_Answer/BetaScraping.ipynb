{
 "cells": [
  {
   "cell_type": "code",
   "execution_count": 1,
   "id": "f00bb794",
   "metadata": {},
   "outputs": [],
   "source": [
    "from bs4 import BeautifulSoup\n",
    "from selenium import webdriver\n",
    "import time\n",
    "import subprocess\n",
    "from selenium.webdriver.common.by import By\n"
   ]
  },
  {
   "cell_type": "code",
   "execution_count": 183,
   "id": "220cc26d",
   "metadata": {},
   "outputs": [],
   "source": [
    "destination = \"https://beta.programming.in.th/tasks\"\n",
    "driver = webdriver.Chrome()\n",
    "driver.get(destination)\n",
    "#log in by your selk then back to task pages"
   ]
  },
  {
   "cell_type": "code",
   "execution_count": 184,
   "id": "c9e45431",
   "metadata": {},
   "outputs": [],
   "source": [
    "from html.parser import HTMLParser\n",
    "\n",
    "class MyHTMLParser(HTMLParser):\n",
    "    def __init__(self):\n",
    "        HTMLParser.__init__(self)\n",
    "        HTMLParser.unwanted_tag = ['div','i','a','br','span']\n",
    "        HTMLParser.code = \"\"\n",
    "\n",
    "    def handle_data(self, data):\n",
    "        HTMLParser.code = HTMLParser.code + data\n",
    "\n",
    "class GetLinkHTML(HTMLParser):\n",
    "    def __init__(self):\n",
    "        HTMLParser.__init__(self)\n",
    "        HTMLParser.unwanted_tag = ['div','i','a','br','span']\n",
    "        HTMLParser.code = \"\"\n",
    "\n",
    "    def handle_data(self, data):\n",
    "        HTMLParser.code = HTMLParser.code + \" \" + data      "
   ]
  },
  {
   "cell_type": "code",
   "execution_count": 185,
   "id": "bc89b83b",
   "metadata": {},
   "outputs": [],
   "source": [
    "# get name of complete task\n",
    "ele = driver.find_elements(By.CLASS_NAME, \"e1006rv43\")\n",
    "link_list = []\n",
    "link_dict = dict()\n",
    "for i in range(len(ele)) :\n",
    "    code_string = ele[i].get_attribute('innerHTML')\n",
    "    parser = GetLinkHTML()\n",
    "    parser.feed(code_string)\n",
    "    x = parser.code.split()\n",
    "    link_list.append(x[0])\n",
    "    link_dict[x[0]] = \"_\".join(x)"
   ]
  },
  {
   "cell_type": "code",
   "execution_count": 195,
   "id": "bb1e2e5e",
   "metadata": {},
   "outputs": [],
   "source": [
    "len(link_list)\n",
    "Xpath_first_answer = \"/html/body/div[1]/div[2]/main/div[2]/div/div[2]/div[1]/table/tbody/tr[1]\"\n",
    "Xpath_code_holder = \"/html/body/div[1]/div[2]/main/div/div/div/div[3]/pre\"\n",
    "Xpath_score = \"/html/body/div[1]/div[2]/main/div/div/div/div[1]/div[2]/p[2]\"\n",
    "code_class = \"css-2qghsv\""
   ]
  },
  {
   "cell_type": "code",
   "execution_count": 211,
   "id": "e5d8fb81",
   "metadata": {},
   "outputs": [
    {
     "data": {
      "text/plain": [
       "178"
      ]
     },
     "execution_count": 211,
     "metadata": {},
     "output_type": "execute_result"
    }
   ],
   "source": [
    "len(link_list)"
   ]
  },
  {
   "cell_type": "code",
   "execution_count": 208,
   "id": "7ba268e4",
   "metadata": {},
   "outputs": [
    {
     "name": "stdout",
     "output_type": "stream",
     "text": [
      "Done 1125\n",
      "Done 1147\n",
      "Done 1160\n",
      "Done 1161\n",
      "Done 1164\n",
      "Done 1169\n",
      "Done 1174\n",
      "Done codecube_001\n",
      "Done codecube_002\n",
      "Done codecube_003\n",
      "Done codecube_004\n",
      "Done codecube_005\n",
      "Done codecube_007\n",
      "Done codecube_010\n",
      "Done codecube_013\n",
      "Done codecube_016\n",
      "Done codecube_018\n",
      "Done codecube_019\n",
      "Done codecube_022\n",
      "Done codecube_026\n",
      "Done codecube_044\n",
      "Done codecube_048\n",
      "Done codecube_059\n",
      "Done codecube_085\n",
      "Done codecube_096\n",
      "Done codecube_107\n",
      "Done codecube_122\n",
      "Done codecube_131\n",
      "Done codecube_153\n",
      "Done codecube_158\n",
      "Done codecube_167\n",
      "Done codecube_170\n",
      "Done codecube_173\n",
      "Done codecube_189\n",
      "Done codecube_196\n",
      "Done codecube_228\n",
      "Done o59_oct_c1_table\n",
      "Done o59_oct_c2_speedup\n",
      "Done toi10_chest\n",
      "Done toi10_crazyadmin\n",
      "Done toi10_goschool\n",
      "Done toi10_pair\n",
      "Done toi10_prime\n",
      "Done toi11_candle\n",
      "Done toi11_cannon\n",
      "ERROR : toi11_labor\n",
      "Done toi11_observatory\n",
      "Done toi11_place\n",
      "Done toi11_segitiga\n",
      "Done toi12_barrier\n",
      "Done toi12_cablecar\n",
      "Done toi12_peak\n",
      "Done toi12_pipe\n",
      "Done toi13_cats\n",
      "Done toi13_orchid\n",
      "Done toi13_robot\n",
      "Done toi13_traveler\n",
      "Done toi14_blockchain\n",
      "Done toi14_nbk48\n",
      "Done toi15_budget\n",
      "Done toi15_cave\n",
      "Done toi16_packbot\n",
      "Done toi17_noodle\n",
      "Done toi17_wall\n",
      "Done toi1_brick\n",
      "Done toi1_chain\n",
      "Done toi1_nugget\n",
      "Done toi1_plate\n",
      "Done toi1_roman\n",
      "Done toi2_maxseq\n",
      "Done toi2_skyline\n",
      "Done toi3_cake\n",
      "Done toi3_tiling\n",
      "Done toi3_treasure\n",
      "Done toi4_key\n",
      "Done toi4_temp\n",
      "Done toi5_jump\n",
      "Done toi5_tug\n",
      "Done toi6_domino\n",
      "Done toi6_hotel\n",
      "Done toi6_jail\n",
      "Done toi6_schedule\n",
      "Done toi6_tree\n",
      "Done toi7_car\n",
      "Done toi7_food\n",
      "Done toi7_sewer\n",
      "Done toi7_space\n",
      "Done toi8_electricity\n",
      "Done toi8_location\n",
      "Done toi8_maze\n",
      "Done toi8_schedule\n",
      "ERROR : toi9_beehive Score: 0/100\n",
      "Done toi9_beehive\n",
      "Done toi9_fence\n",
      "Done toi9_spaceship\n",
      "Done tumso15_talookpee2\n",
      "Done tumso17_sssp\n",
      "ERROR : tumso18_zombieland Score: 0/100\n",
      "Done tumso18_zombieland\n"
     ]
    }
   ],
   "source": [
    "# get code\n",
    "error_list = []\n",
    "check = 1\n",
    "for link in link_list :\n",
    "    # set up\n",
    "    if(link==\"1125\") :\n",
    "        check = 0\n",
    "    if(check) :\n",
    "        continue\n",
    "    try :\n",
    "        f_cpp = \"D://.codeblitx//Beta_Answer//\" + link_dict[link] + \".cpp\"\n",
    "        des = \"https://beta.programming.in.th/tasks/\"+link\n",
    "\n",
    "\n",
    "        driver.get(des)\n",
    "        time.sleep(4)\n",
    "        driver.find_element(\"xpath\", Xpath_first_answer).click()\n",
    "        time.sleep(4)\n",
    "        answer = driver.find_element(\"xpath\", Xpath_code_holder)\n",
    "\n",
    "        # get code\n",
    "        score = answer.find_element(\"xpath\", Xpath_score ).get_attribute('innerHTML')\n",
    "        if (score != \"Score: 100/100\") :\n",
    "            error_list.append(link)\n",
    "            print(\"ERROR : \"+link + \" \" + score )\n",
    "\n",
    "        temp = answer.find_elements(By.CLASS_NAME, code_class)\n",
    "    #     temp = temp.get_attribute('innerHTML')\n",
    "    #     temp = answer.find_element(\"xpath\", code_class).get_attribute('innerHTML')\n",
    "\n",
    "        # get line by line code\n",
    "        strlist=[]\n",
    "        for y in temp :\n",
    "            code_string = y.get_attribute('innerHTML')\n",
    "            parser = MyHTMLParser()\n",
    "            parser.feed(code_string)\n",
    "            strlist.append(parser.code)\n",
    "\n",
    "        with open(f_cpp,'w') as FOUT:\n",
    "            for item in strlist :\n",
    "                FOUT.write(item+\"\\n\")\n",
    "\n",
    "        print(\"Done \"+ link)\n",
    "    except :\n",
    "        error_list.append(link)\n",
    "        print(\"ERROR : \"+link)"
   ]
  },
  {
   "cell_type": "code",
   "execution_count": 209,
   "id": "375c1258",
   "metadata": {},
   "outputs": [
    {
     "data": {
      "text/plain": [
       "['toi11_labor', 'toi9_beehive', 'tumso18_zombieland']"
      ]
     },
     "execution_count": 209,
     "metadata": {},
     "output_type": "execute_result"
    }
   ],
   "source": [
    "error_list"
   ]
  }
 ],
 "metadata": {
  "kernelspec": {
   "display_name": "Python 3 (ipykernel)",
   "language": "python",
   "name": "python3"
  },
  "language_info": {
   "codemirror_mode": {
    "name": "ipython",
    "version": 3
   },
   "file_extension": ".py",
   "mimetype": "text/x-python",
   "name": "python",
   "nbconvert_exporter": "python",
   "pygments_lexer": "ipython3",
   "version": "3.10.9"
  }
 },
 "nbformat": 4,
 "nbformat_minor": 5
}
